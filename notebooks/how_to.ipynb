{
 "cells": [
  {
   "cell_type": "code",
   "execution_count": 2,
   "id": "initial_id",
   "metadata": {
    "collapsed": true,
    "ExecuteTime": {
     "end_time": "2023-12-18T11:36:28.860772Z",
     "start_time": "2023-12-18T11:36:28.856783Z"
    }
   },
   "outputs": [],
   "source": [
    "import time\n",
    "from core.runner import Runner\n",
    "from utils.similarity_measures import SimilarityMeasures"
   ]
  },
  {
   "cell_type": "markdown",
   "source": [
    "Step 2: Initialize the Main Class\n",
    "Create an instance of Main class. This will initialize other components like ChromaDBManager and DataProcessor."
   ],
   "metadata": {
    "collapsed": false,
    "ExecuteTime": {
     "end_time": "2023-12-18T10:22:41.895372Z",
     "start_time": "2023-12-18T10:22:41.773178Z"
    }
   },
   "id": "309159e76ff28eb"
  },
  {
   "cell_type": "code",
   "execution_count": 4,
   "outputs": [
    {
     "name": "stdout",
     "output_type": "stream",
     "text": [
      "22.67383599281311\n"
     ]
    }
   ],
   "source": [
    "# Initialize with default or specific similarity measure\n",
    "start = time.time()\n",
    "runner = Runner(similarity_measure=SimilarityMeasures.COSINE)\n",
    "end = time.time()\n",
    "print(end-start)"
   ],
   "metadata": {
    "collapsed": false,
    "ExecuteTime": {
     "end_time": "2023-12-18T11:38:20.146481Z",
     "start_time": "2023-12-18T11:37:57.467228Z"
    }
   },
   "id": "9fb146a8bd1ca24e"
  },
  {
   "cell_type": "markdown",
   "source": [
    "Step 3: Initialize Data and Collections\n",
    "Call the initialize_data method to set up data structures like hp_embeddings and disease_to_hps."
   ],
   "metadata": {
    "collapsed": false
   },
   "id": "ece61a80e901fc32"
  },
  {
   "cell_type": "markdown",
   "source": [
    "Step 4: Setup Collections\n"
   ],
   "metadata": {
    "collapsed": false
   },
   "id": "fac98f90d5fa1aed"
  },
  {
   "cell_type": "code",
   "execution_count": 5,
   "outputs": [
    {
     "name": "stdout",
     "output_type": "stream",
     "text": [
      "994.2226278781891\n"
     ]
    }
   ],
   "source": [
    "start = time.time()\n",
    "runner.setup_collections()\n",
    "end = time.time()\n",
    "print(end-start)"
   ],
   "metadata": {
    "collapsed": false,
    "ExecuteTime": {
     "end_time": "2023-12-18T11:54:59.907194Z",
     "start_time": "2023-12-18T11:38:25.642834Z"
    }
   },
   "id": "cdf942ff83522539"
  },
  {
   "cell_type": "markdown",
   "source": [
    "Step 5: Run Analysis\n",
    "To run the analysis, specify the similarity strategy, the input HPO terms, and the collection name. The necessary data needs to be available in the notebook."
   ],
   "metadata": {
    "collapsed": false
   },
   "id": "56e4f1bf16940aa1"
  },
  {
   "cell_type": "code",
   "execution_count": 9,
   "outputs": [],
   "source": [
    "# Choose a similarity strategy\n",
    "# similarity_strategy = CosineSimilarity()  # or L2Distance(), etc. this must go out for other function\n",
    "\n",
    "\n",
    "notFullhpListOfOMIM619340 = [\n",
    " 'HP:0001522',\n",
    " 'HP:0010851',\n",
    " 'HP:0002643',\n",
    " 'HP:0032792',\n",
    " 'HP:0002187',\n",
    " 'HP:0000006',\n",
    " 'HP:0200134',\n",
    " 'HP:0011451',\n",
    " 'HP:0001789',\n",
    " 'HP:0011097']\n",
    "\n",
    "allfromomim619340v= [\"HP:0011097\",\t\n",
    "\"HP:0002187\",\t\n",
    "\"HP:0001518\",\t\n",
    "\"HP:0032792\",\t\n",
    "\"HP:0011451\",\t\n",
    "\"HP:0010851\",\t\n",
    "\"HP:0001789\",\t\n",
    "\"HP:0200134\",\t\n",
    "\"HP:0001522\",\n",
    "\"HP:0000006\",\n",
    "\"HP:0002643\"]\n",
    "\n",
    "\n"
   ],
   "metadata": {
    "collapsed": false,
    "ExecuteTime": {
     "end_time": "2023-12-18T12:12:38.949301Z",
     "start_time": "2023-12-18T12:12:38.944225Z"
    }
   },
   "id": "8c36c7b20caab48a"
  },
  {
   "cell_type": "code",
   "execution_count": 10,
   "outputs": [],
   "source": [
    "\n",
    "# Run analysis\n",
    "results = runner.run_analysis(notFullhpListOfOMIM619340)"
   ],
   "metadata": {
    "collapsed": false,
    "ExecuteTime": {
     "end_time": "2023-12-18T12:12:40.618140Z",
     "start_time": "2023-12-18T12:12:40.582329Z"
    }
   },
   "id": "1630f3dc2c7830f7"
  },
  {
   "cell_type": "code",
   "execution_count": 11,
   "outputs": [
    {
     "data": {
      "text/plain": "[('OMIM:619340', 0.002229071920737624),\n ('OMIM:251280', 0.020075643435120583),\n ('OMIM:266100', 0.020780911669135094),\n ('OMIM:614558', 0.02147177793085575),\n ('OMIM:617929', 0.02174798771739006),\n ('OMIM:612164', 0.021880965679883957),\n ('OMIM:617105', 0.022684408351778984),\n ('OMIM:620033', 0.023259595036506653),\n ('OMIM:619881', 0.023755500093102455),\n ('OMIM:619913', 0.0238623209297657)]"
     },
     "execution_count": 11,
     "metadata": {},
     "output_type": "execute_result"
    }
   ],
   "source": [
    "results"
   ],
   "metadata": {
    "collapsed": false,
    "ExecuteTime": {
     "end_time": "2023-12-18T12:12:42.295688Z",
     "start_time": "2023-12-18T12:12:42.293490Z"
    }
   },
   "id": "247b510da87a6e2c"
  },
  {
   "cell_type": "code",
   "execution_count": 12,
   "outputs": [
    {
     "data": {
      "text/plain": "[('OMIM:619340', 0.0),\n ('OMIM:251280', 0.01930435560643673),\n ('OMIM:266100', 0.021473241969943047),\n ('OMIM:617065', 0.02249375358223915),\n ('OMIM:620033', 0.02262789011001587),\n ('OMIM:617105', 0.02341277524828911),\n ('OMIM:619881', 0.02391430363059044),\n ('OMIM:301058', 0.023992136120796204),\n ('OMIM:612164', 0.024027930572628975),\n ('OMIM:609304', 0.024042846634984016)]"
     },
     "execution_count": 12,
     "metadata": {},
     "output_type": "execute_result"
    }
   ],
   "source": [
    "results2 = runner.run_analysis(allfromomim619340v)\n",
    "results2"
   ],
   "metadata": {
    "collapsed": false,
    "ExecuteTime": {
     "end_time": "2023-12-18T12:12:58.452952Z",
     "start_time": "2023-12-18T12:12:58.395161Z"
    }
   },
   "id": "d65fe7e19d45f205"
  },
  {
   "cell_type": "code",
   "execution_count": null,
   "outputs": [],
   "source": [],
   "metadata": {
    "collapsed": false
   },
   "id": "f0602790cf2dccac"
  }
 ],
 "metadata": {
  "kernelspec": {
   "display_name": "Python 3",
   "language": "python",
   "name": "python3"
  },
  "language_info": {
   "codemirror_mode": {
    "name": "ipython",
    "version": 2
   },
   "file_extension": ".py",
   "mimetype": "text/x-python",
   "name": "python",
   "nbconvert_exporter": "python",
   "pygments_lexer": "ipython2",
   "version": "2.7.6"
  }
 },
 "nbformat": 4,
 "nbformat_minor": 5
}
